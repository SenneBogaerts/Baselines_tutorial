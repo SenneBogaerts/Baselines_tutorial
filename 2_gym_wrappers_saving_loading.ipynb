{
  "cells": [
    {
      "cell_type": "markdown",
      "metadata": {
        "id": "view-in-github",
        "colab_type": "text"
      },
      "source": [
        "<a href=\"https://colab.research.google.com/github/SenneBogaerts/Baselines_tutorial/blob/main/2_gym_wrappers_saving_loading.ipynb\" target=\"_parent\"><img src=\"https://colab.research.google.com/assets/colab-badge.svg\" alt=\"Open In Colab\"/></a>"
      ]
    },
    {
      "cell_type": "markdown",
      "metadata": {
        "id": "3ezJ3Y7XRUnj"
      },
      "source": [
        "# Stable Baselines3 Tutorial - Gym wrappers, saving and loading models\n",
        "\n",
        "Github repo: https://github.com/araffin/rl-tutorial-jnrr19/tree/sb3/\n",
        "\n",
        "Stable-Baselines3: https://github.com/DLR-RM/stable-baselines3\n",
        "\n",
        "Documentation: https://stable-baselines3.readthedocs.io/en/master/\n",
        "\n",
        "SB3-Contrib: https://github.com/Stable-Baselines-Team/stable-baselines3-contrib\n",
        "\n",
        "RL Baselines3 zoo: https://github.com/DLR-RM/rl-baselines3-zoo\n",
        "\n",
        "\n",
        "## Introduction\n",
        "\n",
        "In this notebook, you will learn how to use *Gym Wrappers* which allow to do monitoring, normalization, limit the number of steps, feature augmentation, ...\n",
        "\n",
        "\n",
        "You will also see the *loading* and *saving* functions, and how to read the outputted files for possible exporting.\n",
        "\n",
        "## Install Dependencies and Stable Baselines3 Using Pip"
      ]
    },
    {
      "cell_type": "code",
      "execution_count": 1,
      "metadata": {
        "id": "cHFYe-ZHlwsS"
      },
      "outputs": [],
      "source": [
        "# for autoformatting\n",
        "# %load_ext jupyter_black"
      ]
    },
    {
      "cell_type": "code",
      "execution_count": 2,
      "metadata": {
        "colab": {
          "base_uri": "https://localhost:8080/"
        },
        "id": "YFdlFByORUnl",
        "outputId": "f082e63b-ce9a-471e-a609-2ecaa44dfbf0"
      },
      "outputs": [
        {
          "output_type": "stream",
          "name": "stdout",
          "text": [
            "Collecting swig\n",
            "  Downloading swig-4.2.1.post0-py2.py3-none-manylinux_2_5_x86_64.manylinux1_x86_64.whl.metadata (3.5 kB)\n",
            "Downloading swig-4.2.1.post0-py2.py3-none-manylinux_2_5_x86_64.manylinux1_x86_64.whl (1.8 MB)\n",
            "\u001b[2K   \u001b[90m━━━━━━━━━━━━━━━━━━━━━━━━━━━━━━━━━━━━━━━━\u001b[0m \u001b[32m1.8/1.8 MB\u001b[0m \u001b[31m12.8 MB/s\u001b[0m eta \u001b[36m0:00:00\u001b[0m\n",
            "\u001b[?25hInstalling collected packages: swig\n",
            "Successfully installed swig-4.2.1.post0\n",
            "Collecting stable-baselines3>=2.0.0a4 (from stable-baselines3[extra]>=2.0.0a4)\n",
            "  Downloading stable_baselines3-2.4.0a10-py3-none-any.whl.metadata (5.1 kB)\n",
            "Collecting gymnasium<0.30,>=0.28.1 (from stable-baselines3>=2.0.0a4->stable-baselines3[extra]>=2.0.0a4)\n",
            "  Downloading gymnasium-0.29.1-py3-none-any.whl.metadata (10 kB)\n",
            "Requirement already satisfied: numpy<2.0,>=1.20 in /usr/local/lib/python3.10/dist-packages (from stable-baselines3>=2.0.0a4->stable-baselines3[extra]>=2.0.0a4) (1.26.4)\n",
            "Requirement already satisfied: torch>=1.13 in /usr/local/lib/python3.10/dist-packages (from stable-baselines3>=2.0.0a4->stable-baselines3[extra]>=2.0.0a4) (2.5.0+cu121)\n",
            "Requirement already satisfied: cloudpickle in /usr/local/lib/python3.10/dist-packages (from stable-baselines3>=2.0.0a4->stable-baselines3[extra]>=2.0.0a4) (3.1.0)\n",
            "Requirement already satisfied: pandas in /usr/local/lib/python3.10/dist-packages (from stable-baselines3>=2.0.0a4->stable-baselines3[extra]>=2.0.0a4) (2.2.2)\n",
            "Requirement already satisfied: matplotlib in /usr/local/lib/python3.10/dist-packages (from stable-baselines3>=2.0.0a4->stable-baselines3[extra]>=2.0.0a4) (3.7.1)\n",
            "Requirement already satisfied: opencv-python in /usr/local/lib/python3.10/dist-packages (from stable-baselines3[extra]>=2.0.0a4) (4.10.0.84)\n",
            "Requirement already satisfied: pygame in /usr/local/lib/python3.10/dist-packages (from stable-baselines3[extra]>=2.0.0a4) (2.6.1)\n",
            "Requirement already satisfied: tensorboard>=2.9.1 in /usr/local/lib/python3.10/dist-packages (from stable-baselines3[extra]>=2.0.0a4) (2.17.0)\n",
            "Requirement already satisfied: psutil in /usr/local/lib/python3.10/dist-packages (from stable-baselines3[extra]>=2.0.0a4) (5.9.5)\n",
            "Requirement already satisfied: tqdm in /usr/local/lib/python3.10/dist-packages (from stable-baselines3[extra]>=2.0.0a4) (4.66.5)\n",
            "Requirement already satisfied: rich in /usr/local/lib/python3.10/dist-packages (from stable-baselines3[extra]>=2.0.0a4) (13.9.3)\n",
            "Collecting shimmy~=1.3.0 (from shimmy[atari]~=1.3.0; extra == \"extra\"->stable-baselines3[extra]>=2.0.0a4)\n",
            "  Downloading Shimmy-1.3.0-py3-none-any.whl.metadata (3.7 kB)\n",
            "Requirement already satisfied: pillow in /usr/local/lib/python3.10/dist-packages (from stable-baselines3[extra]>=2.0.0a4) (10.4.0)\n",
            "Collecting autorom~=0.6.1 (from autorom[accept-rom-license]~=0.6.1; extra == \"extra\"->stable-baselines3[extra]>=2.0.0a4)\n",
            "  Downloading AutoROM-0.6.1-py3-none-any.whl.metadata (2.4 kB)\n",
            "Requirement already satisfied: click in /usr/local/lib/python3.10/dist-packages (from autorom~=0.6.1->autorom[accept-rom-license]~=0.6.1; extra == \"extra\"->stable-baselines3[extra]>=2.0.0a4) (8.1.7)\n",
            "Requirement already satisfied: requests in /usr/local/lib/python3.10/dist-packages (from autorom~=0.6.1->autorom[accept-rom-license]~=0.6.1; extra == \"extra\"->stable-baselines3[extra]>=2.0.0a4) (2.32.3)\n",
            "Collecting AutoROM.accept-rom-license (from autorom[accept-rom-license]~=0.6.1; extra == \"extra\"->stable-baselines3[extra]>=2.0.0a4)\n",
            "  Downloading AutoROM.accept-rom-license-0.6.1.tar.gz (434 kB)\n",
            "\u001b[2K     \u001b[90m━━━━━━━━━━━━━━━━━━━━━━━━━━━━━━━━━━━━━━━━\u001b[0m \u001b[32m434.7/434.7 kB\u001b[0m \u001b[31m8.2 MB/s\u001b[0m eta \u001b[36m0:00:00\u001b[0m\n",
            "\u001b[?25h  Installing build dependencies ... \u001b[?25l\u001b[?25hdone\n",
            "  Getting requirements to build wheel ... \u001b[?25l\u001b[?25hdone\n",
            "  Preparing metadata (pyproject.toml) ... \u001b[?25l\u001b[?25hdone\n",
            "Requirement already satisfied: typing-extensions>=4.3.0 in /usr/local/lib/python3.10/dist-packages (from gymnasium<0.30,>=0.28.1->stable-baselines3>=2.0.0a4->stable-baselines3[extra]>=2.0.0a4) (4.12.2)\n",
            "Collecting farama-notifications>=0.0.1 (from gymnasium<0.30,>=0.28.1->stable-baselines3>=2.0.0a4->stable-baselines3[extra]>=2.0.0a4)\n",
            "  Using cached Farama_Notifications-0.0.4-py3-none-any.whl.metadata (558 bytes)\n",
            "Collecting ale-py~=0.8.1 (from shimmy[atari]~=1.3.0; extra == \"extra\"->stable-baselines3[extra]>=2.0.0a4)\n",
            "  Downloading ale_py-0.8.1-cp310-cp310-manylinux_2_17_x86_64.manylinux2014_x86_64.whl.metadata (8.1 kB)\n",
            "Requirement already satisfied: absl-py>=0.4 in /usr/local/lib/python3.10/dist-packages (from tensorboard>=2.9.1->stable-baselines3[extra]>=2.0.0a4) (1.4.0)\n",
            "Requirement already satisfied: grpcio>=1.48.2 in /usr/local/lib/python3.10/dist-packages (from tensorboard>=2.9.1->stable-baselines3[extra]>=2.0.0a4) (1.64.1)\n",
            "Requirement already satisfied: markdown>=2.6.8 in /usr/local/lib/python3.10/dist-packages (from tensorboard>=2.9.1->stable-baselines3[extra]>=2.0.0a4) (3.7)\n",
            "Requirement already satisfied: protobuf!=4.24.0,<5.0.0,>=3.19.6 in /usr/local/lib/python3.10/dist-packages (from tensorboard>=2.9.1->stable-baselines3[extra]>=2.0.0a4) (3.20.3)\n",
            "Requirement already satisfied: setuptools>=41.0.0 in /usr/local/lib/python3.10/dist-packages (from tensorboard>=2.9.1->stable-baselines3[extra]>=2.0.0a4) (75.1.0)\n",
            "Requirement already satisfied: six>1.9 in /usr/local/lib/python3.10/dist-packages (from tensorboard>=2.9.1->stable-baselines3[extra]>=2.0.0a4) (1.16.0)\n",
            "Requirement already satisfied: tensorboard-data-server<0.8.0,>=0.7.0 in /usr/local/lib/python3.10/dist-packages (from tensorboard>=2.9.1->stable-baselines3[extra]>=2.0.0a4) (0.7.2)\n",
            "Requirement already satisfied: werkzeug>=1.0.1 in /usr/local/lib/python3.10/dist-packages (from tensorboard>=2.9.1->stable-baselines3[extra]>=2.0.0a4) (3.0.4)\n",
            "Requirement already satisfied: filelock in /usr/local/lib/python3.10/dist-packages (from torch>=1.13->stable-baselines3>=2.0.0a4->stable-baselines3[extra]>=2.0.0a4) (3.16.1)\n",
            "Requirement already satisfied: networkx in /usr/local/lib/python3.10/dist-packages (from torch>=1.13->stable-baselines3>=2.0.0a4->stable-baselines3[extra]>=2.0.0a4) (3.4.2)\n",
            "Requirement already satisfied: jinja2 in /usr/local/lib/python3.10/dist-packages (from torch>=1.13->stable-baselines3>=2.0.0a4->stable-baselines3[extra]>=2.0.0a4) (3.1.4)\n",
            "Requirement already satisfied: fsspec in /usr/local/lib/python3.10/dist-packages (from torch>=1.13->stable-baselines3>=2.0.0a4->stable-baselines3[extra]>=2.0.0a4) (2024.6.1)\n",
            "Requirement already satisfied: sympy==1.13.1 in /usr/local/lib/python3.10/dist-packages (from torch>=1.13->stable-baselines3>=2.0.0a4->stable-baselines3[extra]>=2.0.0a4) (1.13.1)\n",
            "Requirement already satisfied: mpmath<1.4,>=1.1.0 in /usr/local/lib/python3.10/dist-packages (from sympy==1.13.1->torch>=1.13->stable-baselines3>=2.0.0a4->stable-baselines3[extra]>=2.0.0a4) (1.3.0)\n",
            "Requirement already satisfied: contourpy>=1.0.1 in /usr/local/lib/python3.10/dist-packages (from matplotlib->stable-baselines3>=2.0.0a4->stable-baselines3[extra]>=2.0.0a4) (1.3.0)\n",
            "Requirement already satisfied: cycler>=0.10 in /usr/local/lib/python3.10/dist-packages (from matplotlib->stable-baselines3>=2.0.0a4->stable-baselines3[extra]>=2.0.0a4) (0.12.1)\n",
            "Requirement already satisfied: fonttools>=4.22.0 in /usr/local/lib/python3.10/dist-packages (from matplotlib->stable-baselines3>=2.0.0a4->stable-baselines3[extra]>=2.0.0a4) (4.54.1)\n",
            "Requirement already satisfied: kiwisolver>=1.0.1 in /usr/local/lib/python3.10/dist-packages (from matplotlib->stable-baselines3>=2.0.0a4->stable-baselines3[extra]>=2.0.0a4) (1.4.7)\n",
            "Requirement already satisfied: packaging>=20.0 in /usr/local/lib/python3.10/dist-packages (from matplotlib->stable-baselines3>=2.0.0a4->stable-baselines3[extra]>=2.0.0a4) (24.1)\n",
            "Requirement already satisfied: pyparsing>=2.3.1 in /usr/local/lib/python3.10/dist-packages (from matplotlib->stable-baselines3>=2.0.0a4->stable-baselines3[extra]>=2.0.0a4) (3.2.0)\n",
            "Requirement already satisfied: python-dateutil>=2.7 in /usr/local/lib/python3.10/dist-packages (from matplotlib->stable-baselines3>=2.0.0a4->stable-baselines3[extra]>=2.0.0a4) (2.8.2)\n",
            "Requirement already satisfied: pytz>=2020.1 in /usr/local/lib/python3.10/dist-packages (from pandas->stable-baselines3>=2.0.0a4->stable-baselines3[extra]>=2.0.0a4) (2024.2)\n",
            "Requirement already satisfied: tzdata>=2022.7 in /usr/local/lib/python3.10/dist-packages (from pandas->stable-baselines3>=2.0.0a4->stable-baselines3[extra]>=2.0.0a4) (2024.2)\n",
            "Requirement already satisfied: markdown-it-py>=2.2.0 in /usr/local/lib/python3.10/dist-packages (from rich->stable-baselines3[extra]>=2.0.0a4) (3.0.0)\n",
            "Requirement already satisfied: pygments<3.0.0,>=2.13.0 in /usr/local/lib/python3.10/dist-packages (from rich->stable-baselines3[extra]>=2.0.0a4) (2.18.0)\n",
            "Requirement already satisfied: importlib-resources in /usr/local/lib/python3.10/dist-packages (from ale-py~=0.8.1->shimmy[atari]~=1.3.0; extra == \"extra\"->stable-baselines3[extra]>=2.0.0a4) (6.4.5)\n",
            "Requirement already satisfied: mdurl~=0.1 in /usr/local/lib/python3.10/dist-packages (from markdown-it-py>=2.2.0->rich->stable-baselines3[extra]>=2.0.0a4) (0.1.2)\n",
            "Requirement already satisfied: MarkupSafe>=2.1.1 in /usr/local/lib/python3.10/dist-packages (from werkzeug>=1.0.1->tensorboard>=2.9.1->stable-baselines3[extra]>=2.0.0a4) (3.0.2)\n",
            "Requirement already satisfied: charset-normalizer<4,>=2 in /usr/local/lib/python3.10/dist-packages (from requests->autorom~=0.6.1->autorom[accept-rom-license]~=0.6.1; extra == \"extra\"->stable-baselines3[extra]>=2.0.0a4) (3.4.0)\n",
            "Requirement already satisfied: idna<4,>=2.5 in /usr/local/lib/python3.10/dist-packages (from requests->autorom~=0.6.1->autorom[accept-rom-license]~=0.6.1; extra == \"extra\"->stable-baselines3[extra]>=2.0.0a4) (3.10)\n",
            "Requirement already satisfied: urllib3<3,>=1.21.1 in /usr/local/lib/python3.10/dist-packages (from requests->autorom~=0.6.1->autorom[accept-rom-license]~=0.6.1; extra == \"extra\"->stable-baselines3[extra]>=2.0.0a4) (2.2.3)\n",
            "Requirement already satisfied: certifi>=2017.4.17 in /usr/local/lib/python3.10/dist-packages (from requests->autorom~=0.6.1->autorom[accept-rom-license]~=0.6.1; extra == \"extra\"->stable-baselines3[extra]>=2.0.0a4) (2024.8.30)\n",
            "Downloading stable_baselines3-2.4.0a10-py3-none-any.whl (183 kB)\n",
            "\u001b[2K   \u001b[90m━━━━━━━━━━━━━━━━━━━━━━━━━━━━━━━━━━━━━━━━\u001b[0m \u001b[32m183.5/183.5 kB\u001b[0m \u001b[31m13.3 MB/s\u001b[0m eta \u001b[36m0:00:00\u001b[0m\n",
            "\u001b[?25hDownloading AutoROM-0.6.1-py3-none-any.whl (9.4 kB)\n",
            "Downloading gymnasium-0.29.1-py3-none-any.whl (953 kB)\n",
            "\u001b[2K   \u001b[90m━━━━━━━━━━━━━━━━━━━━━━━━━━━━━━━━━━━━━━━━\u001b[0m \u001b[32m953.9/953.9 kB\u001b[0m \u001b[31m30.0 MB/s\u001b[0m eta \u001b[36m0:00:00\u001b[0m\n",
            "\u001b[?25hDownloading Shimmy-1.3.0-py3-none-any.whl (37 kB)\n",
            "Downloading ale_py-0.8.1-cp310-cp310-manylinux_2_17_x86_64.manylinux2014_x86_64.whl (1.7 MB)\n",
            "\u001b[2K   \u001b[90m━━━━━━━━━━━━━━━━━━━━━━━━━━━━━━━━━━━━━━━━\u001b[0m \u001b[32m1.7/1.7 MB\u001b[0m \u001b[31m57.6 MB/s\u001b[0m eta \u001b[36m0:00:00\u001b[0m\n",
            "\u001b[?25hUsing cached Farama_Notifications-0.0.4-py3-none-any.whl (2.5 kB)\n",
            "Building wheels for collected packages: AutoROM.accept-rom-license\n",
            "  Building wheel for AutoROM.accept-rom-license (pyproject.toml) ... \u001b[?25l\u001b[?25hdone\n",
            "  Created wheel for AutoROM.accept-rom-license: filename=AutoROM.accept_rom_license-0.6.1-py3-none-any.whl size=446660 sha256=693956457397b3ed1117a8c9e43ad3b24fe2a7e8e2158eb38ad10a54a7bb3a5e\n",
            "  Stored in directory: /root/.cache/pip/wheels/6b/1b/ef/a43ff1a2f1736d5711faa1ba4c1f61be1131b8899e6a057811\n",
            "Successfully built AutoROM.accept-rom-license\n",
            "Installing collected packages: farama-notifications, gymnasium, ale-py, shimmy, AutoROM.accept-rom-license, autorom, stable-baselines3\n",
            "Successfully installed AutoROM.accept-rom-license-0.6.1 ale-py-0.8.1 autorom-0.6.1 farama-notifications-0.0.4 gymnasium-0.29.1 shimmy-1.3.0 stable-baselines3-2.4.0a10\n"
          ]
        }
      ],
      "source": [
        "!pip install swig\n",
        "!pip install \"stable-baselines3[extra]>=2.0.0a4\""
      ]
    },
    {
      "cell_type": "code",
      "execution_count": 3,
      "metadata": {
        "colab": {
          "base_uri": "https://localhost:8080/"
        },
        "id": "grXe85G9RUnp",
        "outputId": "27be1989-2743-4d1e-e452-3b7c8d1dfcaa"
      },
      "outputs": [
        {
          "output_type": "stream",
          "name": "stderr",
          "text": [
            "/usr/local/lib/python3.10/dist-packages/tensorflow/lite/python/util.py:55: DeprecationWarning: jax.xla_computation is deprecated. Please use the AOT APIs; see https://jax.readthedocs.io/en/latest/aot.html. For example, replace xla_computation(f)(*xs) with jit(f).lower(*xs).compiler_ir('hlo'). See CHANGELOG.md for 0.4.30 for more examples.\n",
            "  from jax import xla_computation as _xla_computation\n"
          ]
        }
      ],
      "source": [
        "import gymnasium as gym\n",
        "from stable_baselines3 import A2C, SAC, PPO, TD3"
      ]
    },
    {
      "cell_type": "markdown",
      "metadata": {
        "id": "hMPAn1SRd32f"
      },
      "source": [
        "# Saving and loading\n",
        "\n",
        "Saving and loading stable-baselines models is straightforward: you can directly call `.save()` and `.load()` on the models."
      ]
    },
    {
      "cell_type": "code",
      "execution_count": 4,
      "metadata": {
        "colab": {
          "base_uri": "https://localhost:8080/"
        },
        "id": "vBNFnN4Gd32g",
        "outputId": "07336d32-6d03-469c-91d7-a41a9602611f"
      },
      "outputs": [
        {
          "output_type": "stream",
          "name": "stdout",
          "text": [
            "pre saved (array([-0.03422768], dtype=float32), None)\n",
            "loaded (array([-0.03422768], dtype=float32), None)\n"
          ]
        }
      ],
      "source": [
        "import os\n",
        "\n",
        "# Create save dir\n",
        "save_dir = \"/tmp/gym/\"\n",
        "os.makedirs(save_dir, exist_ok=True)\n",
        "\n",
        "model = PPO(\"MlpPolicy\", \"Pendulum-v1\", verbose=0).learn(8_000)\n",
        "# The model will be saved under PPO_tutorial.zip\n",
        "model.save(f\"{save_dir}/PPO_tutorial\")\n",
        "\n",
        "# sample an observation from the environment\n",
        "obs = model.env.observation_space.sample()\n",
        "\n",
        "# Check prediction before saving\n",
        "print(\"pre saved\", model.predict(obs, deterministic=True))\n",
        "\n",
        "del model  # delete trained model to demonstrate loading\n",
        "\n",
        "loaded_model = PPO.load(f\"{save_dir}/PPO_tutorial\")\n",
        "# Check that the prediction is the same after loading (for the same observation)\n",
        "print(\"loaded\", loaded_model.predict(obs, deterministic=True))"
      ]
    },
    {
      "cell_type": "markdown",
      "metadata": {
        "id": "gXWPrVqId32o"
      },
      "source": [
        "Saving in stable-baselines is quite powerful, as you save the training hyperparameters, with the current weights. This means in practice, you can simply load a custom model, without redefining the parameters, and continue learning.\n",
        "\n",
        "The loading function can also update the model's class variables when loading."
      ]
    },
    {
      "cell_type": "code",
      "execution_count": 5,
      "metadata": {
        "colab": {
          "base_uri": "https://localhost:8080/"
        },
        "id": "LCtxrAbXd32q",
        "outputId": "383a5b05-bae3-46c0-e3ee-ddd0400e53e3"
      },
      "outputs": [
        {
          "output_type": "stream",
          "name": "stdout",
          "text": [
            "loaded: gamma=0.9, n_steps=20\n",
            "------------------------------------\n",
            "| time/                 |          |\n",
            "|    fps                | 987      |\n",
            "|    iterations         | 100      |\n",
            "|    time_elapsed       | 2        |\n",
            "|    total_timesteps    | 2000     |\n",
            "| train/                |          |\n",
            "|    entropy_loss       | -1.45    |\n",
            "|    explained_variance | 6.93e-05 |\n",
            "|    learning_rate      | 0.0007   |\n",
            "|    n_updates          | 499      |\n",
            "|    policy_loss        | -50.5    |\n",
            "|    std                | 1.03     |\n",
            "|    value_loss         | 1.6e+03  |\n",
            "------------------------------------\n",
            "------------------------------------\n",
            "| time/                 |          |\n",
            "|    fps                | 975      |\n",
            "|    iterations         | 200      |\n",
            "|    time_elapsed       | 4        |\n",
            "|    total_timesteps    | 4000     |\n",
            "| train/                |          |\n",
            "|    entropy_loss       | -1.44    |\n",
            "|    explained_variance | 7.5e-05  |\n",
            "|    learning_rate      | 0.0007   |\n",
            "|    n_updates          | 599      |\n",
            "|    policy_loss        | -41.6    |\n",
            "|    std                | 1.02     |\n",
            "|    value_loss         | 1.11e+03 |\n",
            "------------------------------------\n",
            "------------------------------------\n",
            "| time/                 |          |\n",
            "|    fps                | 971      |\n",
            "|    iterations         | 300      |\n",
            "|    time_elapsed       | 6        |\n",
            "|    total_timesteps    | 6000     |\n",
            "| train/                |          |\n",
            "|    entropy_loss       | -1.44    |\n",
            "|    explained_variance | 8.64e-06 |\n",
            "|    learning_rate      | 0.0007   |\n",
            "|    n_updates          | 699      |\n",
            "|    policy_loss        | -53.9    |\n",
            "|    std                | 1.02     |\n",
            "|    value_loss         | 1.14e+03 |\n",
            "------------------------------------\n",
            "-------------------------------------\n",
            "| time/                 |           |\n",
            "|    fps                | 971       |\n",
            "|    iterations         | 400       |\n",
            "|    time_elapsed       | 8         |\n",
            "|    total_timesteps    | 8000      |\n",
            "| train/                |           |\n",
            "|    entropy_loss       | -1.43     |\n",
            "|    explained_variance | -1.17e-05 |\n",
            "|    learning_rate      | 0.0007    |\n",
            "|    n_updates          | 799       |\n",
            "|    policy_loss        | -39.8     |\n",
            "|    std                | 1.01      |\n",
            "|    value_loss         | 1.04e+03  |\n",
            "-------------------------------------\n"
          ]
        },
        {
          "output_type": "execute_result",
          "data": {
            "text/plain": [
              "<stable_baselines3.a2c.a2c.A2C at 0x7e0649f44400>"
            ]
          },
          "metadata": {},
          "execution_count": 5
        }
      ],
      "source": [
        "import os\n",
        "from stable_baselines3.common.vec_env import DummyVecEnv\n",
        "\n",
        "# Create save dir\n",
        "save_dir = \"/tmp/gym/\"\n",
        "os.makedirs(save_dir, exist_ok=True)\n",
        "\n",
        "model = A2C(\"MlpPolicy\", \"Pendulum-v1\", verbose=0, gamma=0.9, n_steps=20).learn(8000)\n",
        "# The model will be saved under A2C_tutorial.zip\n",
        "model.save(f\"{save_dir}/A2C_tutorial\")\n",
        "\n",
        "del model  # delete trained model to demonstrate loading\n",
        "\n",
        "# load the model, and when loading set verbose to 1\n",
        "loaded_model = A2C.load(f\"{save_dir}/A2C_tutorial\", verbose=1)\n",
        "\n",
        "# show the save hyperparameters\n",
        "print(f\"loaded: gamma={loaded_model.gamma}, n_steps={loaded_model.n_steps}\")\n",
        "\n",
        "# as the environment is not serializable, we need to set a new instance of the environment\n",
        "loaded_model.set_env(DummyVecEnv([lambda: gym.make(\"Pendulum-v1\")]))\n",
        "# and continue training\n",
        "loaded_model.learn(8_000)"
      ]
    },
    {
      "cell_type": "markdown",
      "metadata": {
        "id": "hKwupU-Jgxjm"
      },
      "source": [
        "# Gym and VecEnv wrappers"
      ]
    },
    {
      "cell_type": "markdown",
      "metadata": {
        "id": "ds4AAfmISQIA"
      },
      "source": [
        "## Anatomy of a gym wrapper"
      ]
    },
    {
      "cell_type": "markdown",
      "metadata": {
        "id": "gnTS9e9hTzZZ"
      },
      "source": [
        "A gym wrapper follows the [gym](https://stable-baselines.readthedocs.io/en/master/guide/custom_env.html) interface: it has a `reset()` and `step()` method.\n",
        "\n",
        "Because a wrapper is *around* an environment, we can access it with `self.env`, this allow to easily interact with it without modifying the original env.\n",
        "There are many wrappers that have been predefined, for a complete list refer to [gym documentation](https://gymnasium.farama.org/api/wrappers/)"
      ]
    },
    {
      "cell_type": "code",
      "execution_count": null,
      "metadata": {
        "id": "hYo0C0TQSL3c"
      },
      "outputs": [],
      "source": [
        "class CustomWrapper(gym.Wrapper):\n",
        "    \"\"\"\n",
        "    :param env: (gym.Env) Gym environment that will be wrapped\n",
        "    \"\"\"\n",
        "\n",
        "    def __init__(self, env):\n",
        "        # Call the parent constructor, so we can access self.env later\n",
        "        super().__init__(env)\n",
        "\n",
        "    def reset(self, **kwargs):\n",
        "        \"\"\"\n",
        "        Reset the environment\n",
        "        \"\"\"\n",
        "        obs, info = self.env.reset(**kwargs)\n",
        "\n",
        "        return obs, info\n",
        "\n",
        "    def step(self, action):\n",
        "        \"\"\"\n",
        "        :param action: ([float] or int) Action taken by the agent\n",
        "        :return: (np.ndarray, float, bool, bool, dict) observation, reward, is this a final state (episode finished),\n",
        "        is the max number of steps reached (episode finished artificially), additional informations\n",
        "        \"\"\"\n",
        "        obs, reward, terminated, truncated, info = self.env.step(action)\n",
        "        return obs, reward, terminated, truncated, info"
      ]
    },
    {
      "cell_type": "markdown",
      "metadata": {
        "id": "4zeGuyICUN26"
      },
      "source": [
        "## First example: limit the episode length\n",
        "\n",
        "One practical use case of a wrapper is when you want to limit the number of steps by episode, for that you will need to overwrite the `done` signal when the limit is reached. It is also a good practice to pass that information in the `info` dictionary."
      ]
    },
    {
      "cell_type": "code",
      "execution_count": 6,
      "metadata": {
        "id": "Eb2U4_K6SNUx"
      },
      "outputs": [],
      "source": [
        "class TimeLimitWrapper(gym.Wrapper):\n",
        "    \"\"\"\n",
        "    :param env: (gym.Env) Gym environment that will be wrapped\n",
        "    :param max_steps: (int) Max number of steps per episode\n",
        "    \"\"\"\n",
        "\n",
        "    def __init__(self, env, max_steps=100):\n",
        "        # Call the parent constructor, so we can access self.env later\n",
        "        super(TimeLimitWrapper, self).__init__(env)\n",
        "        self.max_steps = max_steps\n",
        "        # Counter of steps per episode\n",
        "        self.current_step = 0\n",
        "\n",
        "    def reset(self, **kwargs):\n",
        "        \"\"\"\n",
        "        Reset the environment\n",
        "        \"\"\"\n",
        "        # Reset the counter\n",
        "        self.current_step = 0\n",
        "        return self.env.reset(**kwargs)\n",
        "\n",
        "    def step(self, action):\n",
        "        \"\"\"\n",
        "        :param action: ([float] or int) Action taken by the agent\n",
        "        :return: (np.ndarray, float, bool, bool, dict) observation, reward, is the episode over?, additional informations\n",
        "        \"\"\"\n",
        "        self.current_step += 1\n",
        "        obs, reward, terminated, truncated, info = self.env.step(action)\n",
        "        # Overwrite the truncation signal when when the number of steps reaches the maximum\n",
        "        if self.current_step >= self.max_steps:\n",
        "            truncated = True\n",
        "        return obs, reward, terminated, truncated, info"
      ]
    },
    {
      "cell_type": "markdown",
      "metadata": {
        "id": "oZufaUJwVM9w"
      },
      "source": [
        "#### Test the wrapper"
      ]
    },
    {
      "cell_type": "code",
      "execution_count": 7,
      "metadata": {
        "id": "szZ43D5PVB07"
      },
      "outputs": [],
      "source": [
        "from gymnasium.envs.classic_control.pendulum import PendulumEnv\n",
        "\n",
        "# Here we create the environment directly because gym.make() already wrap the environment in a TimeLimit wrapper otherwise\n",
        "env = PendulumEnv()\n",
        "# Wrap the environment\n",
        "env = TimeLimitWrapper(env, max_steps=100)"
      ]
    },
    {
      "cell_type": "code",
      "execution_count": 8,
      "metadata": {
        "colab": {
          "base_uri": "https://localhost:8080/"
        },
        "id": "cencka9iVg9V",
        "outputId": "64d9a49d-df79-4733-ca4a-650e49783153"
      },
      "outputs": [
        {
          "output_type": "stream",
          "name": "stdout",
          "text": [
            "100 {}\n"
          ]
        }
      ],
      "source": [
        "obs, _ = env.reset()\n",
        "done = False\n",
        "n_steps = 0\n",
        "while not done:\n",
        "    # Take random actions\n",
        "    random_action = env.action_space.sample()\n",
        "    obs, reward, terminated, truncated, info = env.step(random_action)\n",
        "    done = terminated or truncated\n",
        "    n_steps += 1\n",
        "\n",
        "print(n_steps, info)"
      ]
    },
    {
      "cell_type": "markdown",
      "metadata": {
        "id": "jkMYA63sV9aA"
      },
      "source": [
        "In practice, `gym` already have a wrapper for that named `TimeLimit` (`gym.wrappers.TimeLimit`) that is used by most environments."
      ]
    },
    {
      "cell_type": "markdown",
      "metadata": {
        "id": "VIIJbSyQW9R-"
      },
      "source": [
        "## Second example: normalize actions\n",
        "\n",
        "It is usually a good idea to normalize observations and actions before giving it to the agent, this prevents this [hard to debug issue](https://github.com/hill-a/stable-baselines/issues/473).\n",
        "\n",
        "In this example, we are going to normalize the action space of *Pendulum-v1* so it lies in [-1, 1] instead of [-2, 2].\n",
        "\n",
        "Note: here we are dealing with continuous actions, hence the `gym.Box` space"
      ]
    },
    {
      "cell_type": "code",
      "execution_count": 9,
      "metadata": {
        "id": "F5E6kZfzW8vy"
      },
      "outputs": [],
      "source": [
        "import numpy as np\n",
        "\n",
        "\n",
        "class NormalizeActionWrapper(gym.Wrapper):\n",
        "    \"\"\"\n",
        "    :param env: (gym.Env) Gym environment that will be wrapped\n",
        "    \"\"\"\n",
        "\n",
        "    def __init__(self, env):\n",
        "        # Retrieve the action space\n",
        "        action_space = env.action_space\n",
        "        assert isinstance(\n",
        "            action_space, gym.spaces.Box\n",
        "        ), \"This wrapper only works with continuous action space (spaces.Box)\"\n",
        "        # Retrieve the max/min values\n",
        "        self.low, self.high = action_space.low, action_space.high\n",
        "\n",
        "        # We modify the action space, so all actions will lie in [-1, 1]\n",
        "        env.action_space = gym.spaces.Box(\n",
        "            low=-1, high=1, shape=action_space.shape, dtype=np.float32\n",
        "        )\n",
        "\n",
        "        # Call the parent constructor, so we can access self.env later\n",
        "        super(NormalizeActionWrapper, self).__init__(env)\n",
        "\n",
        "    def rescale_action(self, scaled_action):\n",
        "        \"\"\"\n",
        "        Rescale the action from [-1, 1] to [low, high]\n",
        "        (no need for symmetric action space)\n",
        "        :param scaled_action: (np.ndarray)\n",
        "        :return: (np.ndarray)\n",
        "        \"\"\"\n",
        "        return self.low + (0.5 * (scaled_action + 1.0) * (self.high - self.low))\n",
        "\n",
        "    def reset(self, **kwargs):\n",
        "        \"\"\"\n",
        "        Reset the environment\n",
        "        \"\"\"\n",
        "        return self.env.reset(**kwargs)\n",
        "\n",
        "    def step(self, action):\n",
        "        \"\"\"\n",
        "        :param action: ([float] or int) Action taken by the agent\n",
        "        :return: (np.ndarray, float,bool, bool, dict) observation, reward, final state? truncated?, additional informations\n",
        "        \"\"\"\n",
        "        # Rescale action from [-1, 1] to original [low, high] interval\n",
        "        rescaled_action = self.rescale_action(action)\n",
        "        obs, reward, terminated, truncated, info = self.env.step(rescaled_action)\n",
        "        return obs, reward, terminated, truncated, info"
      ]
    },
    {
      "cell_type": "markdown",
      "metadata": {
        "id": "TmJ0eahNaR6K"
      },
      "source": [
        "#### Test before rescaling actions"
      ]
    },
    {
      "cell_type": "code",
      "execution_count": 10,
      "metadata": {
        "colab": {
          "base_uri": "https://localhost:8080/"
        },
        "id": "UEnjBwisaQIx",
        "outputId": "9d851f62-e454-4adc-d62a-b7f8429341f5"
      },
      "outputs": [
        {
          "output_type": "stream",
          "name": "stdout",
          "text": [
            "[-2.]\n",
            "[1.2297393]\n",
            "[-1.58968]\n",
            "[0.8281902]\n",
            "[-0.2108033]\n",
            "[1.767311]\n",
            "[0.85784125]\n",
            "[-0.77335256]\n",
            "[-0.7606867]\n",
            "[-1.1250824]\n",
            "[1.2936292]\n"
          ]
        }
      ],
      "source": [
        "original_env = gym.make(\"Pendulum-v1\")\n",
        "\n",
        "print(original_env.action_space.low)\n",
        "for _ in range(10):\n",
        "    print(original_env.action_space.sample())"
      ]
    },
    {
      "cell_type": "markdown",
      "metadata": {
        "id": "jvcll2L3afVd"
      },
      "source": [
        "#### Test the NormalizeAction wrapper"
      ]
    },
    {
      "cell_type": "code",
      "execution_count": 11,
      "metadata": {
        "colab": {
          "base_uri": "https://localhost:8080/"
        },
        "id": "WsCM9AUGaeBN",
        "outputId": "4ab1c9e7-b98b-4c45-aa91-27190e193232"
      },
      "outputs": [
        {
          "output_type": "stream",
          "name": "stdout",
          "text": [
            "[-1.]\n",
            "[-0.5153275]\n",
            "[-0.61098164]\n",
            "[-0.32064506]\n",
            "[0.58829474]\n",
            "[0.8788953]\n",
            "[0.30717543]\n",
            "[-0.32974657]\n",
            "[-0.48564115]\n",
            "[0.7313685]\n",
            "[0.01980063]\n"
          ]
        }
      ],
      "source": [
        "env = NormalizeActionWrapper(gym.make(\"Pendulum-v1\"))\n",
        "\n",
        "print(env.action_space.low)\n",
        "\n",
        "for _ in range(10):\n",
        "    print(env.action_space.sample())"
      ]
    },
    {
      "cell_type": "markdown",
      "metadata": {
        "id": "V5h5kk2mbGNs"
      },
      "source": [
        "#### Test with a RL algorithm\n",
        "\n",
        "We are going to use the Monitor wrapper of stable baselines, which allow to monitor training stats (mean episode reward, mean episode length)"
      ]
    },
    {
      "cell_type": "code",
      "execution_count": 12,
      "metadata": {
        "id": "R9FNCN8ybOVU"
      },
      "outputs": [],
      "source": [
        "from stable_baselines3.common.monitor import Monitor\n",
        "from stable_baselines3.common.vec_env import DummyVecEnv"
      ]
    },
    {
      "cell_type": "code",
      "execution_count": 13,
      "metadata": {
        "id": "wutM3c1GbfGP"
      },
      "outputs": [],
      "source": [
        "env = Monitor(gym.make(\"Pendulum-v1\"))\n",
        "env = DummyVecEnv([lambda: env])"
      ]
    },
    {
      "cell_type": "code",
      "execution_count": 14,
      "metadata": {
        "colab": {
          "base_uri": "https://localhost:8080/"
        },
        "id": "8cxnE5bdaQ_3",
        "outputId": "e62ef4ff-8bf7-46b1-955b-7eb97714026a"
      },
      "outputs": [
        {
          "output_type": "stream",
          "name": "stdout",
          "text": [
            "Using cpu device\n",
            "-------------------------------------\n",
            "| rollout/              |           |\n",
            "|    ep_len_mean        | 200       |\n",
            "|    ep_rew_mean        | -1.63e+03 |\n",
            "| time/                 |           |\n",
            "|    fps                | 527       |\n",
            "|    iterations         | 100       |\n",
            "|    time_elapsed       | 0         |\n",
            "|    total_timesteps    | 500       |\n",
            "| train/                |           |\n",
            "|    entropy_loss       | -1.41     |\n",
            "|    explained_variance | 0.191     |\n",
            "|    learning_rate      | 0.0007    |\n",
            "|    n_updates          | 99        |\n",
            "|    policy_loss        | -17.9     |\n",
            "|    std                | 0.995     |\n",
            "|    value_loss         | 137       |\n",
            "-------------------------------------\n",
            "------------------------------------\n",
            "| rollout/              |          |\n",
            "|    ep_len_mean        | 200      |\n",
            "|    ep_rew_mean        | -1.4e+03 |\n",
            "| time/                 |          |\n",
            "|    fps                | 501      |\n",
            "|    iterations         | 200      |\n",
            "|    time_elapsed       | 1        |\n",
            "|    total_timesteps    | 1000     |\n",
            "| train/                |          |\n",
            "|    entropy_loss       | -1.42    |\n",
            "|    explained_variance | -0.021   |\n",
            "|    learning_rate      | 0.0007   |\n",
            "|    n_updates          | 199      |\n",
            "|    policy_loss        | -53.6    |\n",
            "|    std                | 1        |\n",
            "|    value_loss         | 1.87e+03 |\n",
            "------------------------------------\n"
          ]
        }
      ],
      "source": [
        "model = A2C(\"MlpPolicy\", env, verbose=1).learn(int(1000))"
      ]
    },
    {
      "cell_type": "markdown",
      "metadata": {
        "id": "EJFSM-Drb3Wc"
      },
      "source": [
        "With the action wrapper"
      ]
    },
    {
      "cell_type": "code",
      "execution_count": 15,
      "metadata": {
        "id": "GszFZthob2wM"
      },
      "outputs": [],
      "source": [
        "normalized_env = Monitor(gym.make(\"Pendulum-v1\"))\n",
        "# Note that we can use multiple wrappers\n",
        "normalized_env = NormalizeActionWrapper(normalized_env)\n",
        "normalized_env = DummyVecEnv([lambda: normalized_env])"
      ]
    },
    {
      "cell_type": "code",
      "execution_count": 16,
      "metadata": {
        "colab": {
          "base_uri": "https://localhost:8080/"
        },
        "id": "wrKJEO4NcIMd",
        "outputId": "d2a26dc7-9a0b-42ae-8fa0-70d4bc5c1d2c"
      },
      "outputs": [
        {
          "output_type": "stream",
          "name": "stdout",
          "text": [
            "Using cpu device\n",
            "-------------------------------------\n",
            "| rollout/              |           |\n",
            "|    ep_len_mean        | 200       |\n",
            "|    ep_rew_mean        | -1.45e+03 |\n",
            "| time/                 |           |\n",
            "|    fps                | 413       |\n",
            "|    iterations         | 100       |\n",
            "|    time_elapsed       | 1         |\n",
            "|    total_timesteps    | 500       |\n",
            "| train/                |           |\n",
            "|    entropy_loss       | -1.42     |\n",
            "|    explained_variance | 0.061     |\n",
            "|    learning_rate      | 0.0007    |\n",
            "|    n_updates          | 99        |\n",
            "|    policy_loss        | -25.1     |\n",
            "|    std                | 1         |\n",
            "|    value_loss         | 140       |\n",
            "-------------------------------------\n",
            "-------------------------------------\n",
            "| rollout/              |           |\n",
            "|    ep_len_mean        | 200       |\n",
            "|    ep_rew_mean        | -1.48e+03 |\n",
            "| time/                 |           |\n",
            "|    fps                | 404       |\n",
            "|    iterations         | 200       |\n",
            "|    time_elapsed       | 2         |\n",
            "|    total_timesteps    | 1000      |\n",
            "| train/                |           |\n",
            "|    entropy_loss       | -1.41     |\n",
            "|    explained_variance | -0.0256   |\n",
            "|    learning_rate      | 0.0007    |\n",
            "|    n_updates          | 199       |\n",
            "|    policy_loss        | -44.1     |\n",
            "|    std                | 0.99      |\n",
            "|    value_loss         | 1.89e+03  |\n",
            "-------------------------------------\n"
          ]
        }
      ],
      "source": [
        "model_2 = A2C(\"MlpPolicy\", normalized_env, verbose=1).learn(int(1000))"
      ]
    },
    {
      "cell_type": "markdown",
      "metadata": {
        "id": "5BxqXd_6dpJx"
      },
      "source": [
        "## Additional wrappers: VecEnvWrappers\n",
        "\n",
        "In the same vein as gym wrappers, stable baselines provide wrappers for `VecEnv`. Among the different wrappers that exist (and you can create your own), you should know:\n",
        "\n",
        "- VecNormalize: it computes a running mean and standard deviation to normalize observation and returns\n",
        "- VecFrameStack: it stacks several consecutive observations (useful to integrate time in the observation, e.g. successive frame of an atari game)\n",
        "\n",
        "More info in the [documentation](https://stable-baselines3.readthedocs.io/en/master/guide/vec_envs.html#wrappers)\n",
        "\n",
        "Note: when using `VecNormalize` wrapper, you must save the running mean and std along with the model, otherwise you will not get proper results when loading the agent again. If you use the [rl zoo](https://github.com/DLR-RM/rl-baselines3-zoo), this is done automatically"
      ]
    },
    {
      "cell_type": "code",
      "execution_count": 17,
      "metadata": {
        "id": "zuIcbfv3g9dd"
      },
      "outputs": [],
      "source": [
        "from stable_baselines3.common.vec_env import VecNormalize, VecFrameStack\n",
        "\n",
        "env = DummyVecEnv([lambda: gym.make(\"Pendulum-v1\")])\n",
        "normalized_vec_env = VecNormalize(env)"
      ]
    },
    {
      "cell_type": "code",
      "execution_count": 18,
      "metadata": {
        "colab": {
          "base_uri": "https://localhost:8080/"
        },
        "id": "-PAbu21pg90A",
        "outputId": "e5534a71-0358-4815-fccf-0f37f6b56412"
      },
      "outputs": [
        {
          "output_type": "stream",
          "name": "stdout",
          "text": [
            "[[-0.34006903 -0.94369173  0.996556  ]] [-10.]\n",
            "[[-0.72596544 -1.2852824   1.3377081 ]] [-2.0191743]\n",
            "[[-0.8331098 -1.4391022  1.2742491]] [-1.2729172]\n",
            "[[-0.5419594 -1.5291282  1.2390891]] [-0.9583422]\n",
            "[[ 0.3820529 -1.5749639  1.108847 ]] [-0.7340321]\n",
            "[[ 1.6621305 -1.6193367  1.2152287]] [-0.58195966]\n",
            "[[ 2.1597936 -1.6279312  0.9840522]] [-0.47806853]\n",
            "[[ 2.25714    -1.6190665   0.77261776]] [-0.40048233]\n",
            "[[ 2.2011163  -1.5718395   0.05539324]] [-0.34186313]\n",
            "[[ 2.1439836  -1.5266272  -0.27346614]] [-0.2960184]\n"
          ]
        }
      ],
      "source": [
        "obs = normalized_vec_env.reset()\n",
        "for _ in range(10):\n",
        "    action = [normalized_vec_env.action_space.sample()]\n",
        "    obs, reward, _, _ = normalized_vec_env.step(action)\n",
        "    print(obs, reward)"
      ]
    },
    {
      "cell_type": "markdown",
      "metadata": {
        "id": "UEpTys28Wz05"
      },
      "source": [
        "## Exercise: code you own monitor wrapper\n",
        "\n",
        "Now that you know how does a wrapper work and what you can do with it, it's time to experiment.\n",
        "\n",
        "The goal here is to create a wrapper that will monitor the training progress, storing both the episode reward (sum of reward for one episode) and episode length (number of steps in for the last episode).\n",
        "\n",
        "You will return those values using the `info` dict after each end of episode."
      ]
    },
    {
      "cell_type": "code",
      "execution_count": 29,
      "metadata": {
        "id": "8FWeDRd5W7hO"
      },
      "outputs": [],
      "source": [
        "class MyMonitorWrapper(gym.Wrapper):\n",
        "    \"\"\"\n",
        "    :param env: (gym.Env) Gym environment that will be wrapped\n",
        "    \"\"\"\n",
        "\n",
        "    def __init__(self, env):\n",
        "        # Call the parent constructor, so we can access self.env later\n",
        "        super().__init__(env)\n",
        "        # === YOUR CODE HERE ===#\n",
        "        # Initialize the variables that will be used\n",
        "        # to store the episode length and episode reward\n",
        "\n",
        "        # ====================== #\n",
        "        self.episode_reward = 0\n",
        "        self.current_step = 0\n",
        "\n",
        "    def reset(self, **kwargs):\n",
        "        \"\"\"\n",
        "        Reset the environment\n",
        "        \"\"\"\n",
        "        obs = self.env.reset(**kwargs)\n",
        "        # === YOUR CODE HERE ===#\n",
        "        # Reset the variables\n",
        "        self.episode_reward = 0\n",
        "        self.current_step = 0\n",
        "        # ====================== #\n",
        "\n",
        "        return obs\n",
        "\n",
        "    def step(self, action):\n",
        "        \"\"\"\n",
        "        :param action: ([float] or int) Action taken by the agent\n",
        "        :return: (np.ndarray, float, bool, bool, dict)\n",
        "            observation, reward, is the episode over?, is the episode truncated?, additional information\n",
        "        \"\"\"\n",
        "        obs, reward, terminated, truncated, info = self.env.step(action)\n",
        "        # === YOUR CODE HERE ===#\n",
        "        # Update the current episode reward and episode length\n",
        "        self.current_step += 1\n",
        "        self.episode_reward += reward\n",
        "        # ====================== #\n",
        "\n",
        "\n",
        "        if terminated or truncated:\n",
        "            # === YOUR CODE HERE ===#\n",
        "            # Store the episode length and episode reward in the info dict\n",
        "            info['ep_reward'] = self.episode_reward\n",
        "            info['tim_step'] = self.current_step\n",
        "\n",
        "            # ====================== #\n",
        "        return obs, reward, terminated, truncated, info"
      ]
    },
    {
      "cell_type": "markdown",
      "metadata": {
        "id": "d4fY4QwWXNFK"
      },
      "source": [
        "#### Test your wrapper"
      ]
    },
    {
      "cell_type": "code",
      "execution_count": 20,
      "metadata": {
        "colab": {
          "base_uri": "https://localhost:8080/"
        },
        "id": "bJbUG-A_liYt",
        "outputId": "dda1f972-df9e-4305-dbce-83ba73784fca"
      },
      "outputs": [
        {
          "output_type": "stream",
          "name": "stdout",
          "text": [
            "Collecting box2d-py\n",
            "  Downloading box2d-py-2.3.8.tar.gz (374 kB)\n",
            "\u001b[?25l     \u001b[90m━━━━━━━━━━━━━━━━━━━━━━━━━━━━━━━━━━━━━━━━\u001b[0m \u001b[32m0.0/374.5 kB\u001b[0m \u001b[31m?\u001b[0m eta \u001b[36m-:--:--\u001b[0m\r\u001b[2K     \u001b[91m━━━━━━━━━━━━━━━━━━━━━━━━━━━━\u001b[0m\u001b[90m╺\u001b[0m\u001b[90m━━━━━━━━━━━\u001b[0m \u001b[32m266.2/374.5 kB\u001b[0m \u001b[31m8.0 MB/s\u001b[0m eta \u001b[36m0:00:01\u001b[0m\r\u001b[2K     \u001b[90m━━━━━━━━━━━━━━━━━━━━━━━━━━━━━━━━━━━━━━━━\u001b[0m \u001b[32m374.5/374.5 kB\u001b[0m \u001b[31m6.8 MB/s\u001b[0m eta \u001b[36m0:00:00\u001b[0m\n",
            "\u001b[?25h  Preparing metadata (setup.py) ... \u001b[?25l\u001b[?25hdone\n",
            "Building wheels for collected packages: box2d-py\n",
            "  Building wheel for box2d-py (setup.py) ... \u001b[?25l\u001b[?25hdone\n",
            "  Created wheel for box2d-py: filename=box2d_py-2.3.8-cp310-cp310-linux_x86_64.whl size=2376098 sha256=2e270bfa7db90c9a2705d065dfb478bc60fe4b823c09030b4ae25fe254cc0f41\n",
            "  Stored in directory: /root/.cache/pip/wheels/47/01/d2/6a780da77ccb98b1d2facdd520a8d10838a03b590f6f8d50c0\n",
            "Successfully built box2d-py\n",
            "Installing collected packages: box2d-py\n",
            "Successfully installed box2d-py-2.3.8\n"
          ]
        }
      ],
      "source": [
        "# To use LunarLander, you need to install box2d box2d-kengz (pip) and swig (apt-get)\n",
        "!pip install box2d-py"
      ]
    },
    {
      "cell_type": "code",
      "execution_count": 32,
      "metadata": {
        "colab": {
          "base_uri": "https://localhost:8080/"
        },
        "id": "oWZp1olSXMUg",
        "outputId": "ff7ff5f0-a059-4ba8-b26f-e8d24412924e"
      },
      "outputs": [
        {
          "output_type": "stream",
          "name": "stdout",
          "text": [
            "am here\n",
            "113 113 -209.1340477251885 -209.1340477251885\n"
          ]
        }
      ],
      "source": [
        "env = gym.make(\"LunarLander-v2\")\n",
        "# === YOUR CODE HERE ===#\n",
        "# Wrap the environment\n",
        "MyMonitor_env = MyMonitorWrapper(env)\n",
        "print('am here')\n",
        "# Reset the environment\n",
        "obs = MyMonitor_env.reset()\n",
        "done = False\n",
        "n_steps = 0\n",
        "n_reward = 0\n",
        "# Take random actions in the environment and check\n",
        "# that it returns the correct values after the end of each episode\n",
        "while not done:\n",
        "    action = MyMonitor_env.action_space.sample()\n",
        "    obs, reward, terminated, truncated, info = MyMonitor_env.step(action)\n",
        "    done = terminated or truncated\n",
        "    n_steps += 1\n",
        "    n_reward += reward\n",
        "\n",
        "print(n_steps,info['tim_step'],n_reward,info['ep_reward'])\n",
        "# ====================== #"
      ]
    },
    {
      "cell_type": "markdown",
      "metadata": {
        "id": "dJ2IqSM2eOt8"
      },
      "source": [
        " # Conclusion\n",
        "\n",
        " In this notebook, we have seen:\n",
        " - how to easily save and load a model\n",
        " - what is wrapper and what we can do with it\n",
        " - how to create your own wrapper"
      ]
    },
    {
      "cell_type": "markdown",
      "metadata": {
        "id": "qhWB_bHpSkas"
      },
      "source": [
        "## Wrapper Bonus: changing the observation space: a wrapper for episode of fixed length"
      ]
    },
    {
      "cell_type": "code",
      "execution_count": null,
      "metadata": {
        "id": "bBlS9YxYSpJn"
      },
      "outputs": [],
      "source": [
        "from gym.wrappers import TimeLimit\n",
        "\n",
        "\n",
        "class TimeFeatureWrapper(gym.Wrapper):\n",
        "    \"\"\"\n",
        "    Add remaining time to observation space for fixed length episodes.\n",
        "    See https://arxiv.org/abs/1712.00378 and https://github.com/aravindr93/mjrl/issues/13.\n",
        "\n",
        "    :param env: (gym.Env)\n",
        "    :param max_steps: (int) Max number of steps of an episode\n",
        "        if it is not wrapped in a TimeLimit object.\n",
        "    :param test_mode: (bool) In test mode, the time feature is constant,\n",
        "        equal to zero. This allow to check that the agent did not overfit this feature,\n",
        "        learning a deterministic pre-defined sequence of actions.\n",
        "    \"\"\"\n",
        "\n",
        "    def __init__(self, env, max_steps=1000, test_mode=False):\n",
        "        assert isinstance(env.observation_space, gym.spaces.Box)\n",
        "        # Add a time feature to the observation\n",
        "        low, high = env.observation_space.low, env.observation_space.high\n",
        "        low, high = np.concatenate((low, [0])), np.concatenate((high, [1.0]))\n",
        "        env.observation_space = gym.spaces.Box(low=low, high=high, dtype=np.float32)\n",
        "\n",
        "        super().__init__(env)\n",
        "\n",
        "        if isinstance(env, TimeLimit):\n",
        "            self._max_steps = env._max_episode_steps\n",
        "        else:\n",
        "            self._max_steps = max_steps\n",
        "        self._current_step = 0\n",
        "        self._test_mode = test_mode\n",
        "\n",
        "    def reset(self, **kwargs):\n",
        "        self._current_step = 0\n",
        "        obs, info = self.env.reset(**kwargs)\n",
        "        return self._get_obs(obs), info\n",
        "\n",
        "    def step(self, action):\n",
        "        self._current_step += 1\n",
        "        obs, reward, terminated, truncated, info = self.env.step(action)\n",
        "        return self._get_obs(obs), reward, terminated, truncated, info\n",
        "\n",
        "    def _get_obs(self, obs):\n",
        "        \"\"\"\n",
        "        Concatenate the time feature to the current observation.\n",
        "\n",
        "        :param obs: (np.ndarray)\n",
        "        :return: (np.ndarray)\n",
        "        \"\"\"\n",
        "        # Remaining time is more general\n",
        "        time_feature = 1 - (self._current_step / self._max_steps)\n",
        "        if self._test_mode:\n",
        "            time_feature = 1.0\n",
        "        # Optionally: concatenate [time_feature, time_feature ** 2]\n",
        "        return np.concatenate((obs, [time_feature]))"
      ]
    },
    {
      "cell_type": "code",
      "execution_count": null,
      "metadata": {
        "id": "z-vWgkZzd4F1"
      },
      "outputs": [],
      "source": []
    },
    {
      "cell_type": "markdown",
      "metadata": {
        "id": "Ojn4nvNNRUoT"
      },
      "source": [
        "## Going further - Saving format\n",
        "\n",
        "The format for saving and loading models is a zip-archived JSON dump and NumPy zip archive of the arrays:\n",
        "```\n",
        "saved_model.zip/\n",
        "├── data              JSON file of class-parameters (dictionary)\n",
        "├── parameter_list    JSON file of model parameters and their ordering (list)\n",
        "├── parameters        Bytes from numpy.savez (a zip file of the numpy arrays). ...\n",
        "    ├── ...           Being a zip-archive itself, this object can also be opened ...\n",
        "        ├── ...       as a zip-archive and browsed.\n",
        "```"
      ]
    },
    {
      "cell_type": "markdown",
      "metadata": {
        "id": "QWAcc8RFRUoU"
      },
      "source": [
        "## Save and find"
      ]
    },
    {
      "cell_type": "code",
      "execution_count": 33,
      "metadata": {
        "id": "4tcQxzSCRUoV"
      },
      "outputs": [],
      "source": [
        "# Create save dir\n",
        "save_dir = \"/tmp/gym/\"\n",
        "os.makedirs(save_dir, exist_ok=True)\n",
        "\n",
        "model = PPO(\"MlpPolicy\", \"Pendulum-v1\", verbose=0).learn(8000)\n",
        "model.save(save_dir + \"/PPO_tutorial\")"
      ]
    },
    {
      "cell_type": "code",
      "execution_count": 34,
      "metadata": {
        "colab": {
          "base_uri": "https://localhost:8080/"
        },
        "id": "rGaMNz4HRUoX",
        "outputId": "68e32f93-3b69-4ec5-b43c-d28369468546"
      },
      "outputs": [
        {
          "output_type": "stream",
          "name": "stdout",
          "text": [
            "/tmp/gym/PPO_tutorial.zip\n"
          ]
        }
      ],
      "source": [
        "!ls /tmp/gym/PPO_tutorial*"
      ]
    },
    {
      "cell_type": "code",
      "execution_count": 35,
      "metadata": {
        "colab": {
          "base_uri": "https://localhost:8080/"
        },
        "id": "gYY3nQyyRUoa",
        "outputId": "2bef731c-52c8-4867-85b0-a527f7083140"
      },
      "outputs": [
        {
          "output_type": "stream",
          "name": "stdout",
          "text": [
            "data\n",
            "pytorch_variables.pth\n",
            "policy.pth\n",
            "policy.optimizer.pth\n",
            "_stable_baselines3_version\n",
            "system_info.txt\n"
          ]
        }
      ],
      "source": [
        "import zipfile\n",
        "\n",
        "archive = zipfile.ZipFile(\"/tmp/gym/PPO_tutorial.zip\", \"r\")\n",
        "for f in archive.filelist:\n",
        "    print(f.filename)"
      ]
    },
    {
      "cell_type": "markdown",
      "metadata": {
        "id": "cPKkkTvjRUo2"
      },
      "source": [
        "## Exporting saved models\n",
        "\n",
        "And finally some further reading for those who want to export to tensorflowJS or Java.\n",
        "\n",
        "https://stable-baselines3.readthedocs.io/en/master/guide/export.html"
      ]
    },
    {
      "cell_type": "markdown",
      "metadata": {
        "id": "Wz_E4MivlwtS"
      },
      "source": []
    }
  ],
  "metadata": {
    "colab": {
      "name": "2_gym_wrappers_saving_loading.ipynb",
      "provenance": [],
      "include_colab_link": true
    },
    "kernelspec": {
      "display_name": "Python 3 (ipykernel)",
      "language": "python",
      "name": "python3"
    },
    "language_info": {
      "codemirror_mode": {
        "name": "ipython",
        "version": 3
      },
      "file_extension": ".py",
      "mimetype": "text/x-python",
      "name": "python",
      "nbconvert_exporter": "python",
      "pygments_lexer": "ipython3",
      "version": "3.10.9"
    },
    "vscode": {
      "interpreter": {
        "hash": "31f2aee4e71d21fbe5cf8b01ff0e069b9275f58929596ceb00d14d90e3e16cd6"
      }
    }
  },
  "nbformat": 4,
  "nbformat_minor": 0
}